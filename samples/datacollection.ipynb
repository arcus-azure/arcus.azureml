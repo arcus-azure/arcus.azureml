{
 "metadata": {
  "language_info": {
   "codemirror_mode": {
    "name": "ipython",
    "version": 3
   },
   "file_extension": ".py",
   "mimetype": "text/x-python",
   "name": "python",
   "nbconvert_exporter": "python",
   "pygments_lexer": "ipython3",
   "version": "3.8.5-final"
  },
  "orig_nbformat": 2,
  "kernelspec": {
   "name": "python_defaultSpec_1598341736405",
   "display_name": "Python 3.8.5 64-bit"
  }
 },
 "nbformat": 4,
 "nbformat_minor": 2,
 "cells": [
  {
   "cell_type": "markdown",
   "metadata": {},
   "source": [
    "# Downloading Kaggle datasets to Azure File Datasets\n",
    "\n",
    "This sample notebook shows the workflow on how to download a Kaggle dataset to an AzureML FileDataset, without using your local bandwith.\n",
    "\n",
    "## Preparation\n",
    "\n",
    "In order to get started, you need the following\n",
    "\n",
    "- An active AzureML workspace\n",
    "- Your config.json provided with the right information (see documentation)\n",
    "- Your Kaggle authentication details (kaggle.com - click your account - in API section, Create new API token)\n",
    "\n",
    "## Authentication\n",
    "\n",
    "There are two options to authenticate\n",
    "\n",
    "- You can enter your secrets (username + key) into the Azure Key Vault instance that is linked to your AzureML workspace (you will need the right authorization for that).  Provide two secrets with the right values then: `KAGGLE-USERNAME` and `KAGGLE-KEY`\n",
    "- You can pass the values as arguments to your script\n",
    "            \n",
    "## Configuration parameters\n",
    "\n",
    "In the following section, you can provide your configuration parameters for your script.\n",
    "\n",
    "- kaggle_dataset_name: the name of the dataset you want to download.  (`Copy API command` when clicking the three dots on the kaggle.com dataset website) This is in the form of (user/data-set-name)\n",
    "- kaggle_user_name: the username of kaggle.  leave this empty if you are using Azure KeyVault\n",
    "- kaggle_user_key : the secret key of your kaggle user.  leave this empty if you are using Azure KeyVault"
   ]
  },
  {
   "cell_type": "code",
   "execution_count": 18,
   "metadata": {},
   "outputs": [],
   "source": [
    "kaggle_dataset_name = 'new-york-state/nys-farm-product-dealer-licenses-currently-issued'\n",
    "kaggle_user_name = ''\n",
    "kaggle_user_key = ''\n",
    "use_key_vault = True\n",
    "remote_compute_name = 'cpu-cluster'"
   ]
  },
  {
   "cell_type": "code",
   "execution_count": 8,
   "metadata": {},
   "outputs": [],
   "source": [
    "import os\n",
    "import os.path\n",
    "import sys\n",
    "from datetime import date\n",
    "\n",
    "from azureml.widgets import RunDetails\n",
    "from azureml.core.compute import ComputeTarget, AmlCompute\n",
    "from azureml.core.compute_target import ComputeTargetException"
   ]
  },
  {
   "cell_type": "markdown",
   "metadata": {},
   "source": [
    "## Connect to your AzureML workspace"
   ]
  },
  {
   "cell_type": "code",
   "execution_count": 15,
   "metadata": {
    "tags": []
   },
   "outputs": [
    {
     "output_type": "stream",
     "name": "stdout",
     "text": "Connected to AzureML workspace\n>> Name: codit-ai-incubators-ml\n>> Subscription: c1537527-c126-428d-8f72-1ac9f2c63c1f\n>> Resource group: codit-ai-incubators\n"
    }
   ],
   "source": [
    "from arcus.azureml.environment.aml_environment import AzureMLEnvironment\n",
    "azure_config_file = '../.azureml/config.json'\n",
    "aml = AzureMLEnvironment.Create(config_file=azure_config_file)"
   ]
  },
  {
   "cell_type": "code",
   "execution_count": 16,
   "metadata": {},
   "outputs": [],
   "source": [
    "training_name = 'Arcus-Kaggle-Download'\n",
    "trainer = aml.start_experiment(training_name)\n",
    "trainer.setup_training(training_name)"
   ]
  },
  {
   "cell_type": "markdown",
   "metadata": {},
   "source": [
    "## Setup of script\n",
    "\n",
    "The following script will be used to execute in the cloud"
   ]
  },
  {
   "cell_type": "code",
   "execution_count": 17,
   "metadata": {
    "tags": []
   },
   "outputs": [
    {
     "output_type": "stream",
     "name": "stdout",
     "text": "Overwriting Arcus-Kaggle-Download/train.py\n"
    }
   ],
   "source": [
    "%%writefile Arcus-Kaggle-Download/train.py\n",
    "\n",
    "# General references\n",
    "import argparse\n",
    "import os\n",
    "\n",
    "# Add arcus references\n",
    "from arcus.azureml.datacollection.kagglecollection import copy_to_azureml\n",
    "from arcus.azureml.environment.aml_environment import AzureMLEnvironment\n",
    "\n",
    "##########################################\n",
    "### Parse arguments and prepare environment\n",
    "##########################################\n",
    "\n",
    "parser = argparse.ArgumentParser()\n",
    "\n",
    "# If you want to parse arguments that get passed through the estimator, this can be done here\n",
    "parser.add_argument('--kaggle_user', type=str, dest='user', default=None, help='Kaggle user name')\n",
    "parser.add_argument('--kaggle_key', type=str, dest='key', default=None, help='Kaggle user secret')\n",
    "parser.add_argument('--kaggle_dataset', type=str, dest='dataset', default=None, help='Kaggle data set name')\n",
    "parser.add_argument('--use_keyvault', type=bool, dest='usekeyvault', default=True, help='Indicate to use Key Vault')\n",
    "\n",
    "args, unknown = parser.parse_known_args()\n",
    "kaggle_user = args.user\n",
    "kaggle_secret = args.key\n",
    "kaggle_dataset = args.dataset\n",
    "use_key_vault = args.usekeyvault\n",
    "\n",
    "# Load the environment from the Run context, so you can access any dataset\n",
    "aml_environment = AzureMLEnvironment.CreateFromContext()\n",
    "copy_to_azureml(aml_environment, kaggle_dataset, local_path='kaggle_data', user_name = kaggle_user, user_key = kaggle_user_key, use_key_vault=use_key_vault, force_download=True)\n",
    "\n",
    "print('Training finished')"
   ]
  },
  {
   "cell_type": "markdown",
   "metadata": {},
   "source": [
    "## Launch script on cloud compute"
   ]
  },
  {
   "cell_type": "code",
   "execution_count": 19,
   "metadata": {},
   "outputs": [
    {
     "output_type": "error",
     "ename": "ComputeTargetException",
     "evalue": "ComputeTargetException:\n\tMessage: ComputeTargetNotFound: Compute Target with name cpu_cluster not found in provided workspace\n\tInnerException None\n\tErrorResponse \n{\n    \"error\": {\n        \"message\": \"ComputeTargetNotFound: Compute Target with name cpu_cluster not found in provided workspace\"\n    }\n}",
     "traceback": [
      "\u001b[0;31m---------------------------------------------------------------------------\u001b[0m",
      "\u001b[0;31mComputeTargetException\u001b[0m                    Traceback (most recent call last)",
      "\u001b[0;32m<ipython-input-19-06f8a6987c06>\u001b[0m in \u001b[0;36m<module>\u001b[0;34m\u001b[0m\n\u001b[1;32m     13\u001b[0m     }\n\u001b[1;32m     14\u001b[0m \u001b[0;34m\u001b[0m\u001b[0m\n\u001b[0;32m---> 15\u001b[0;31m mask_stage_run = trainer.start_training(training_name, environment_type='sklearn', \n\u001b[0m\u001b[1;32m     16\u001b[0m                        \u001b[0mscript_parameters\u001b[0m\u001b[0;34m=\u001b[0m\u001b[0margs\u001b[0m\u001b[0;34m,\u001b[0m\u001b[0;34m\u001b[0m\u001b[0;34m\u001b[0m\u001b[0m\n\u001b[1;32m     17\u001b[0m                        compute_target=remote_compute_name, gpu_compute=False)\n",
      "\u001b[0;32m~/git/arcus/arcus.azureml/arcus/azureml/experimenting/aml_trainer.py\u001b[0m in \u001b[0;36mstart_training\u001b[0;34m(self, training_name, environment_type, input_datasets, input_datasets_to_download, compute_target, gpu_compute, script_parameters, show_widget, use_estimator, **kwargs)\u001b[0m\n\u001b[1;32m    383\u001b[0m             \u001b[0mself\u001b[0m\u001b[0;34m.\u001b[0m\u001b[0m_start_estimator_training\u001b[0m\u001b[0;34m(\u001b[0m\u001b[0mtraining_name\u001b[0m\u001b[0;34m,\u001b[0m \u001b[0menvironment_type\u001b[0m\u001b[0;34m,\u001b[0m \u001b[0minput_datasets\u001b[0m\u001b[0;34m,\u001b[0m \u001b[0minput_datasets_to_download\u001b[0m\u001b[0;34m,\u001b[0m \u001b[0mcompute_target\u001b[0m\u001b[0;34m,\u001b[0m \u001b[0mgpu_compute\u001b[0m\u001b[0;34m,\u001b[0m \u001b[0mscript_parameters\u001b[0m\u001b[0;34m,\u001b[0m \u001b[0mshow_widget\u001b[0m\u001b[0;34m,\u001b[0m \u001b[0;34m**\u001b[0m\u001b[0mkwargs\u001b[0m\u001b[0;34m)\u001b[0m\u001b[0;34m\u001b[0m\u001b[0;34m\u001b[0m\u001b[0m\n\u001b[1;32m    384\u001b[0m         \u001b[0;32melse\u001b[0m\u001b[0;34m:\u001b[0m\u001b[0;34m\u001b[0m\u001b[0;34m\u001b[0m\u001b[0m\n\u001b[0;32m--> 385\u001b[0;31m             \u001b[0mself\u001b[0m\u001b[0;34m.\u001b[0m\u001b[0m_start_environment_training\u001b[0m\u001b[0;34m(\u001b[0m\u001b[0mtraining_name\u001b[0m\u001b[0;34m,\u001b[0m \u001b[0menvironment_type\u001b[0m\u001b[0;34m,\u001b[0m \u001b[0minput_datasets\u001b[0m\u001b[0;34m,\u001b[0m \u001b[0minput_datasets_to_download\u001b[0m\u001b[0;34m,\u001b[0m \u001b[0mcompute_target\u001b[0m\u001b[0;34m,\u001b[0m \u001b[0mgpu_compute\u001b[0m\u001b[0;34m,\u001b[0m \u001b[0mscript_parameters\u001b[0m\u001b[0;34m,\u001b[0m \u001b[0mshow_widget\u001b[0m\u001b[0;34m,\u001b[0m \u001b[0;34m**\u001b[0m\u001b[0mkwargs\u001b[0m\u001b[0;34m)\u001b[0m\u001b[0;34m\u001b[0m\u001b[0;34m\u001b[0m\u001b[0m\n\u001b[0m\u001b[1;32m    386\u001b[0m \u001b[0;34m\u001b[0m\u001b[0m\n\u001b[1;32m    387\u001b[0m         \u001b[0;32mif\u001b[0m \u001b[0mscript_parameters\u001b[0m \u001b[0;32mis\u001b[0m \u001b[0;32mnot\u001b[0m \u001b[0;32mNone\u001b[0m\u001b[0;34m:\u001b[0m\u001b[0;34m\u001b[0m\u001b[0;34m\u001b[0m\u001b[0m\n",
      "\u001b[0;32m~/git/arcus/arcus.azureml/arcus/azureml/experimenting/aml_trainer.py\u001b[0m in \u001b[0;36m_start_environment_training\u001b[0;34m(self, training_name, environment_type, input_datasets, input_datasets_to_download, compute_target, gpu_compute, script_parameters, show_widget, **kwargs)\u001b[0m\n\u001b[1;32m    424\u001b[0m         \u001b[0;31m# Check compute target\u001b[0m\u001b[0;34m\u001b[0m\u001b[0;34m\u001b[0m\u001b[0;34m\u001b[0m\u001b[0m\n\u001b[1;32m    425\u001b[0m         \u001b[0;32mif\u001b[0m \u001b[0mcompute_target\u001b[0m \u001b[0;34m!=\u001b[0m \u001b[0;34m'local'\u001b[0m\u001b[0;34m:\u001b[0m\u001b[0;34m\u001b[0m\u001b[0;34m\u001b[0m\u001b[0m\n\u001b[0;32m--> 426\u001b[0;31m             \u001b[0mself\u001b[0m\u001b[0;34m.\u001b[0m\u001b[0m__check_compute_target\u001b[0m\u001b[0;34m(\u001b[0m\u001b[0mcompute_target\u001b[0m\u001b[0;34m,\u001b[0m \u001b[0mgpu_compute\u001b[0m\u001b[0;34m)\u001b[0m\u001b[0;34m\u001b[0m\u001b[0;34m\u001b[0m\u001b[0m\n\u001b[0m\u001b[1;32m    427\u001b[0m \u001b[0;34m\u001b[0m\u001b[0m\n\u001b[1;32m    428\u001b[0m         \u001b[0mtraining_env\u001b[0m \u001b[0;34m=\u001b[0m \u001b[0mte\u001b[0m\u001b[0;34m.\u001b[0m\u001b[0mget_training_environment\u001b[0m\u001b[0;34m(\u001b[0m\u001b[0mself\u001b[0m\u001b[0;34m.\u001b[0m\u001b[0m__workspace\u001b[0m\u001b[0;34m,\u001b[0m \u001b[0mtraining_name\u001b[0m\u001b[0;34m,\u001b[0m \u001b[0mos\u001b[0m\u001b[0;34m.\u001b[0m\u001b[0mpath\u001b[0m\u001b[0;34m.\u001b[0m\u001b[0mjoin\u001b[0m\u001b[0;34m(\u001b[0m\u001b[0mtraining_name\u001b[0m\u001b[0;34m,\u001b[0m \u001b[0;34m'requirements.txt'\u001b[0m\u001b[0;34m)\u001b[0m\u001b[0;34m,\u001b[0m \u001b[0muse_gpu\u001b[0m\u001b[0;34m=\u001b[0m\u001b[0mgpu_compute\u001b[0m\u001b[0;34m,\u001b[0m \u001b[0minclude_prerelease\u001b[0m\u001b[0;34m=\u001b[0m\u001b[0;32mTrue\u001b[0m\u001b[0;34m,\u001b[0m \u001b[0menvironment_type\u001b[0m\u001b[0;34m=\u001b[0m\u001b[0menvironment_type\u001b[0m\u001b[0;34m)\u001b[0m\u001b[0;34m\u001b[0m\u001b[0;34m\u001b[0m\u001b[0m\n",
      "\u001b[0;32m~/git/arcus/arcus.azureml/arcus/azureml/experimenting/aml_trainer.py\u001b[0m in \u001b[0;36m__check_compute_target\u001b[0;34m(self, compute_target, use_gpu)\u001b[0m\n\u001b[1;32m    572\u001b[0m             \u001b[0m__vm_size\u001b[0m \u001b[0;34m=\u001b[0m \u001b[0mcompute_target\u001b[0m\u001b[0;34m.\u001b[0m\u001b[0mvm_size\u001b[0m\u001b[0;34m\u001b[0m\u001b[0;34m\u001b[0m\u001b[0m\n\u001b[1;32m    573\u001b[0m         \u001b[0;32melif\u001b[0m \u001b[0misinstance\u001b[0m\u001b[0;34m(\u001b[0m\u001b[0mcompute_target\u001b[0m\u001b[0;34m,\u001b[0m \u001b[0mstr\u001b[0m\u001b[0;34m)\u001b[0m\u001b[0;34m:\u001b[0m\u001b[0;34m\u001b[0m\u001b[0;34m\u001b[0m\u001b[0m\n\u001b[0;32m--> 574\u001b[0;31m             \u001b[0mcompute\u001b[0m \u001b[0;34m=\u001b[0m \u001b[0mComputeTarget\u001b[0m\u001b[0;34m(\u001b[0m\u001b[0mworkspace\u001b[0m\u001b[0;34m=\u001b[0m\u001b[0mself\u001b[0m\u001b[0;34m.\u001b[0m\u001b[0m__workspace\u001b[0m\u001b[0;34m,\u001b[0m \u001b[0mname\u001b[0m\u001b[0;34m=\u001b[0m\u001b[0mcompute_target\u001b[0m\u001b[0;34m)\u001b[0m\u001b[0;34m\u001b[0m\u001b[0;34m\u001b[0m\u001b[0m\n\u001b[0m\u001b[1;32m    575\u001b[0m             \u001b[0m__vm_size\u001b[0m \u001b[0;34m=\u001b[0m \u001b[0mcompute\u001b[0m\u001b[0;34m.\u001b[0m\u001b[0mvm_size\u001b[0m\u001b[0;34m\u001b[0m\u001b[0;34m\u001b[0m\u001b[0m\n\u001b[1;32m    576\u001b[0m \u001b[0;34m\u001b[0m\u001b[0m\n",
      "\u001b[0;32m/usr/local/lib/python3.8/site-packages/azureml/core/compute/compute.py\u001b[0m in \u001b[0;36m__new__\u001b[0;34m(cls, workspace, name)\u001b[0m\n\u001b[1;32m     84\u001b[0m                         \u001b[0;32mreturn\u001b[0m \u001b[0mcompute_target\u001b[0m\u001b[0;34m\u001b[0m\u001b[0;34m\u001b[0m\u001b[0m\n\u001b[1;32m     85\u001b[0m             \u001b[0;32melse\u001b[0m\u001b[0;34m:\u001b[0m\u001b[0;34m\u001b[0m\u001b[0;34m\u001b[0m\u001b[0m\n\u001b[0;32m---> 86\u001b[0;31m                 raise ComputeTargetException('ComputeTargetNotFound: Compute Target with name {} not found in '\n\u001b[0m\u001b[1;32m     87\u001b[0m                                              'provided workspace'.format(name))\n\u001b[1;32m     88\u001b[0m         \u001b[0;32melse\u001b[0m\u001b[0;34m:\u001b[0m\u001b[0;34m\u001b[0m\u001b[0;34m\u001b[0m\u001b[0m\n",
      "\u001b[0;31mComputeTargetException\u001b[0m: ComputeTargetException:\n\tMessage: ComputeTargetNotFound: Compute Target with name cpu_cluster not found in provided workspace\n\tInnerException None\n\tErrorResponse \n{\n    \"error\": {\n        \"message\": \"ComputeTargetNotFound: Compute Target with name cpu_cluster not found in provided workspace\"\n    }\n}"
     ]
    }
   ],
   "source": [
    "if use_key_vault:\n",
    "    # Using Key Vault authentication, so only needed to pass the actual data set name\n",
    "    args = {\n",
    "        '--kaggle_dataset': kaggle_dataset_name\n",
    "    }\n",
    "else:\n",
    "    # Not using Key Vault authentication, so passing the secrets too\n",
    "    args = {\n",
    "        '--kaggle_user': kaggle_user_name,\n",
    "        '--kaggle_key': kaggle_user_key,\n",
    "        '--kaggle_dataset': kaggle_dataset_name,\n",
    "        '--use_keyvault': False,\n",
    "    }\n",
    "\n",
    "mask_stage_run = trainer.start_training(training_name, environment_type='sklearn', \n",
    "                       script_parameters=args,\n",
    "                       compute_target=remote_compute_name, gpu_compute=False)"
   ]
  },
  {
   "cell_type": "code",
   "execution_count": null,
   "metadata": {},
   "outputs": [],
   "source": []
  }
 ]
}