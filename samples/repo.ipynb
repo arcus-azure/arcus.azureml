{
 "cells": [
  {
   "cell_type": "code",
   "execution_count": 1,
   "metadata": {
    "ExecuteTime": {
     "end_time": "2020-05-14T10:07:00.840921Z",
     "start_time": "2020-05-14T10:07:00.838845Z"
    }
   },
   "outputs": [],
   "source": [
    "# This section enables to use the module code referenced in the repo\n",
    "import os\n",
    "import sys"
   ]
  },
  {
   "cell_type": "code",
   "execution_count": 15,
   "metadata": {
    "ExecuteTime": {
     "end_time": "2020-05-14T10:11:56.558479Z",
     "start_time": "2020-05-14T10:11:56.553307Z"
    }
   },
   "outputs": [],
   "source": [
    "# Imports for the excercise\n",
    "import pandas as pd \n",
    "import logging\n",
    "import numpy as np\n",
    "from sklearn.model_selection import train_test_split\n",
    "from sklearn import linear_model\n",
    "from azureml.core import Workspace, Dataset, Datastore, Experiment, Run\n",
    "from azureml.core.compute import ComputeTarget, AmlCompute\n",
    "from azureml.core.compute_target import ComputeTargetException\n",
    "from azureml.core.runconfig import RunConfiguration\n",
    "from azureml.core import ScriptRunConfig, RunConfiguration, Experiment\n",
    "from azureml.widgets import RunDetails"
   ]
  },
  {
   "cell_type": "markdown",
   "metadata": {},
   "source": [
    "## Connecting to a remote AzureML environment"
   ]
  },
  {
   "cell_type": "code",
   "execution_count": 7,
   "metadata": {
    "ExecuteTime": {
     "end_time": "2020-05-14T10:08:46.048037Z",
     "start_time": "2020-05-14T10:08:45.292839Z"
    }
   },
   "outputs": [],
   "source": [
    "work_env =  Workspace.from_config()"
   ]
  },
  {
   "cell_type": "markdown",
   "metadata": {},
   "source": [
    "## Starting an experiment with runs and logging to it"
   ]
  },
  {
   "cell_type": "code",
   "execution_count": 8,
   "metadata": {
    "ExecuteTime": {
     "end_time": "2020-05-14T10:09:38.193209Z",
     "start_time": "2020-05-14T10:09:37.756732Z"
    }
   },
   "outputs": [],
   "source": [
    "exp = Experiment(workspace=work_env, name='Repo')"
   ]
  },
  {
   "cell_type": "markdown",
   "metadata": {},
   "source": [
    "## Local experiment"
   ]
  },
  {
   "cell_type": "markdown",
   "metadata": {},
   "source": [
    "### Training script file"
   ]
  },
  {
   "cell_type": "code",
   "execution_count": 12,
   "metadata": {
    "ExecuteTime": {
     "end_time": "2020-05-14T10:11:26.360806Z",
     "start_time": "2020-05-14T10:11:26.352212Z"
    }
   },
   "outputs": [],
   "source": [
    "from azureml.train.estimator import Estimator\n",
    "from azureml.widgets import RunDetails\n",
    "\n",
    "\n",
    "def get_training_script():\n",
    "    # Copyright (c) Microsoft Corporation. All rights reserved.\n",
    "    # Licensed under the MIT License.\n",
    "\n",
    "    import argparse\n",
    "\n",
    "    print(\"*********************************************************\")\n",
    "    print(\"Hello Azure ML!\")\n",
    "\n",
    "    parser = argparse.ArgumentParser()\n",
    "    parser.add_argument('--numbers-in-sequence', type=int, dest='num_in_sequence', default=10,\n",
    "                        help='number of fibonacci numbers in sequence')\n",
    "\n",
    "    # This is how you can use a bool argument in Python. If you want the 'my_bool_var' to be True, just pass it\n",
    "    # in Estimator's script_param as script+params:{'my_bool_var': ''}.\n",
    "    # And, if you want to use it as False, then do not pass it in the Estimator's script_params.\n",
    "    # You can reverse the behavior by setting action='store_false' in the next line.\n",
    "    parser.add_argument(\"--my_bool_var\", action='store_true')\n",
    "\n",
    "    args = parser.parse_args()\n",
    "    num = args.num_in_sequence\n",
    "    my_bool_var = args.my_bool_var\n",
    "\n",
    "\n",
    "    def fibo(n):\n",
    "        if n < 2:\n",
    "            return n\n",
    "        else:\n",
    "            return fibo(n - 1) + fibo(n - 2)\n",
    "\n",
    "\n",
    "    try:\n",
    "        from azureml.core import Run\n",
    "        run = Run.get_context()\n",
    "        print(\"The value of boolean parameter 'my_bool_var' is {}\".format(my_bool_var))\n",
    "        print(\"Log Fibonacci numbers.\")\n",
    "        for i in range(0, num - 1):\n",
    "            run.log('Fibonacci numbers', fibo(i))\n",
    "        run.complete()\n",
    "    except:\n",
    "        print(\"Warning: you need to install Azure ML SDK in order to log metrics.\")\n",
    "\n",
    "    print(\"*********************************************************\")"
   ]
  },
  {
   "cell_type": "markdown",
   "metadata": {},
   "source": [
    "In the next cell we take the above function and save the body of the function in the script_file.py"
   ]
  },
  {
   "cell_type": "code",
   "execution_count": 13,
   "metadata": {
    "ExecuteTime": {
     "end_time": "2020-05-14T10:11:27.240796Z",
     "start_time": "2020-05-14T10:11:27.235660Z"
    }
   },
   "outputs": [],
   "source": [
    "import inspect\n",
    "script_file_name = 'script_file.py'\n",
    "lines = inspect.getsource(get_training_script)\n",
    "lines = '\\n'.join(lines.split('\\n')[1:])\n",
    "with open(script_file_name, \"w\") as script_file:\n",
    "    script_file.write(lines)"
   ]
  },
  {
   "cell_type": "code",
   "execution_count": 24,
   "metadata": {
    "ExecuteTime": {
     "end_time": "2020-05-14T10:31:45.102413Z",
     "start_time": "2020-05-14T10:31:45.097515Z"
    }
   },
   "outputs": [
    {
     "name": "stdout",
     "output_type": "stream",
     "text": [
      "Overwriting script_file.py\n"
     ]
    }
   ],
   "source": [
    "%%writefile script_file.py\n",
    "\n",
    "import argparse\n",
    "\n",
    "print(\"*********************************************************\")\n",
    "print(\"Hello Azure ML!\")\n",
    "\n",
    "parser = argparse.ArgumentParser()\n",
    "parser.add_argument('--numbers-in-sequence', type=int, dest='num_in_sequence', default=10,\n",
    "                    help='number of fibonacci numbers in sequence')\n",
    "\n",
    "# This is how you can use a bool argument in Python. If you want the 'my_bool_var' to be True, just pass it\n",
    "# in Estimator's script_param as script+params:{'my_bool_var': ''}.\n",
    "# And, if you want to use it as False, then do not pass it in the Estimator's script_params.\n",
    "# You can reverse the behavior by setting action='store_false' in the next line.\n",
    "parser.add_argument(\"--my_bool_var\", action='store_true')\n",
    "\n",
    "args = parser.parse_args()\n",
    "num = args.num_in_sequence\n",
    "my_bool_var = args.my_bool_var\n",
    "\n",
    "print(args)\n",
    "\n",
    "def fibo(n):\n",
    "    if n < 2:\n",
    "        return n\n",
    "    else:\n",
    "        return fibo(n - 1) + fibo(n - 2)\n",
    "\n",
    "\n",
    "try:\n",
    "    from azureml.core import Run\n",
    "    run = Run.get_context()\n",
    "    print(\"The value of boolean parameter 'my_bool_var' is {}\".format(my_bool_var))\n",
    "    print(\"Log Fibonacci numbers.\")\n",
    "    for i in range(0, num - 1):\n",
    "        run.log('Fibonacci numbers', fibo(i))\n",
    "    run.complete()\n",
    "except:\n",
    "    print(\"Warning: you need to install Azure ML SDK in order to log metrics.\")\n",
    "\n",
    "print(\"*********************************************************\")"
   ]
  },
  {
   "cell_type": "markdown",
   "metadata": {},
   "source": [
    "### Local execution of the script"
   ]
  },
  {
   "cell_type": "code",
   "execution_count": 25,
   "metadata": {
    "ExecuteTime": {
     "end_time": "2020-05-14T10:31:49.125200Z",
     "start_time": "2020-05-14T10:31:49.115334Z"
    }
   },
   "outputs": [],
   "source": [
    "run_local = RunConfiguration()\n",
    "run_local.environment.python.user_managed_dependencies = True"
   ]
  },
  {
   "cell_type": "code",
   "execution_count": 26,
   "metadata": {
    "ExecuteTime": {
     "end_time": "2020-05-14T10:32:59.186265Z",
     "start_time": "2020-05-14T10:31:50.084758Z"
    }
   },
   "outputs": [
    {
     "name": "stdout",
     "output_type": "stream",
     "text": [
      "RunId: Repo_1589452310_b3a8173c\n",
      "Web View: https://ml.azure.com/experiments/Repo/runs/Repo_1589452310_b3a8173c?wsid=/subscriptions/c1537527-c126-428d-8f72-1ac9f2c63c1f/resourcegroups/codit-ai-incubators/workspaces/codit-ai-incubators-ml\n",
      "\n",
      "Streaming azureml-logs/70_driver_log.txt\n",
      "========================================\n",
      "\n",
      "Entering context manager injector. Current time:2020-05-14T12:31:55.347133\n",
      "Starting the daemon thread to refresh tokens in background for process with pid = 20637\n",
      "Warning: Unable to import azureml.history. Output collection disabled.\n",
      "Preparing to call script [ script_file.py ] with arguments: []\n",
      "After variable expansion, calling script [ script_file.py ] with arguments: []\n",
      "\n",
      "*********************************************************\n",
      "Hello Azure ML!\n",
      "Namespace(my_bool_var=False, num_in_sequence=10)\n",
      "*********************************************************\n",
      "\n",
      "\n",
      "The experiment failed. Finalizing run...\n",
      "Error occurred when setting run status to Finalizing: 'NoneType' object has no attribute 'get_process_name'\n",
      "Traceback (most recent call last):\n",
      "  File \"azureml-setup/context_manager_injector.py\", line 278, in <module>\n",
      "    execute_with_context(options.inject, options.invocation)\n",
      "  File \"azureml-setup/context_manager_injector.py\", line 191, in execute_with_context\n",
      "    print(\"Error occurred when setting run status to Finalizing: {}\".format(ex))\n",
      "  File \"/private/var/folders/s_/lzy93vds1hz0stvfdr565bdm0000gn/T/azureml_runs/Repo_1589452310_b3a8173c/azureml-setup/utility_context_managers.py\", line 152, in __exit__\n",
      "    end_time = time.time()\n",
      "AttributeError: 'NoneType' object has no attribute 'time'\n",
      "\n",
      "\n",
      "Execution Summary\n",
      "=================\n",
      "RunId: Repo_1589452310_b3a8173c\n",
      "Web View: https://ml.azure.com/experiments/Repo/runs/Repo_1589452310_b3a8173c?wsid=/subscriptions/c1537527-c126-428d-8f72-1ac9f2c63c1f/resourcegroups/codit-ai-incubators/workspaces/codit-ai-incubators-ml\n"
     ]
    },
    {
     "ename": "ActivityFailedException",
     "evalue": "ActivityFailedException:\n\tMessage: Activity Failed:\n{\n    \"error\": {\n        \"code\": \"ServiceError\",\n        \"message\": \"Failed to run ['python', 'azureml-setup/run_script.py', 'python', 'azureml-setup/context_manager_injector.py', '-i', 'ProjectPythonPath:context_managers.ProjectPythonPath', '-i', 'RunHistory:context_managers.RunHistory', '-i', 'TrackUserError:context_managers.TrackUserError', 'script_file.py'] \\n Exit code 1 \\nDetails can be found in azureml-logs/60_control_log.txt log file.\",\n        \"details\": [],\n        \"messageParameters\": {}\n    },\n    \"time\": \"0001-01-01T00:00:00.000Z\"\n}\n\tInnerException None\n\tErrorResponse \n{\n    \"error\": {\n        \"message\": \"Activity Failed:\\n{\\n    \\\"error\\\": {\\n        \\\"code\\\": \\\"ServiceError\\\",\\n        \\\"message\\\": \\\"Failed to run ['python', 'azureml-setup/run_script.py', 'python', 'azureml-setup/context_manager_injector.py', '-i', 'ProjectPythonPath:context_managers.ProjectPythonPath', '-i', 'RunHistory:context_managers.RunHistory', '-i', 'TrackUserError:context_managers.TrackUserError', 'script_file.py'] \\\\n Exit code 1 \\\\nDetails can be found in azureml-logs/60_control_log.txt log file.\\\",\\n        \\\"details\\\": [],\\n        \\\"messageParameters\\\": {}\\n    },\\n    \\\"time\\\": \\\"0001-01-01T00:00:00.000Z\\\"\\n}\"\n    }\n}",
     "output_type": "error",
     "traceback": [
      "\u001b[0;31m---------------------------------------------------------------------------\u001b[0m",
      "\u001b[0;31mActivityFailedException\u001b[0m                   Traceback (most recent call last)",
      "\u001b[0;32m<ipython-input-26-f790f209cf73>\u001b[0m in \u001b[0;36m<module>\u001b[0;34m\u001b[0m\n\u001b[1;32m      2\u001b[0m \u001b[0mconfig\u001b[0m \u001b[0;34m=\u001b[0m \u001b[0mScriptRunConfig\u001b[0m\u001b[0;34m(\u001b[0m\u001b[0msource_directory\u001b[0m\u001b[0;34m=\u001b[0m\u001b[0;34m'.'\u001b[0m\u001b[0;34m,\u001b[0m \u001b[0mscript\u001b[0m\u001b[0;34m=\u001b[0m\u001b[0mscript_file_name\u001b[0m\u001b[0;34m,\u001b[0m \u001b[0mrun_config\u001b[0m \u001b[0;34m=\u001b[0m \u001b[0mrun_local\u001b[0m\u001b[0;34m)\u001b[0m\u001b[0;34m\u001b[0m\u001b[0;34m\u001b[0m\u001b[0m\n\u001b[1;32m      3\u001b[0m \u001b[0mscript_run\u001b[0m \u001b[0;34m=\u001b[0m \u001b[0mexp\u001b[0m\u001b[0;34m.\u001b[0m\u001b[0msubmit\u001b[0m\u001b[0;34m(\u001b[0m\u001b[0mconfig\u001b[0m\u001b[0;34m)\u001b[0m\u001b[0;34m\u001b[0m\u001b[0;34m\u001b[0m\u001b[0m\n\u001b[0;32m----> 4\u001b[0;31m \u001b[0mscript_run\u001b[0m\u001b[0;34m.\u001b[0m\u001b[0mwait_for_completion\u001b[0m\u001b[0;34m(\u001b[0m\u001b[0mshow_output\u001b[0m\u001b[0;34m=\u001b[0m\u001b[0;32mTrue\u001b[0m\u001b[0;34m)\u001b[0m\u001b[0;34m\u001b[0m\u001b[0;34m\u001b[0m\u001b[0m\n\u001b[0m",
      "\u001b[0;32m/usr/local/lib/python3.7/site-packages/azureml/core/run.py\u001b[0m in \u001b[0;36mwait_for_completion\u001b[0;34m(self, show_output, wait_post_processing, raise_on_error)\u001b[0m\n\u001b[1;32m    678\u001b[0m                     \u001b[0mfile_handle\u001b[0m\u001b[0;34m=\u001b[0m\u001b[0msys\u001b[0m\u001b[0;34m.\u001b[0m\u001b[0mstdout\u001b[0m\u001b[0;34m,\u001b[0m\u001b[0;34m\u001b[0m\u001b[0;34m\u001b[0m\u001b[0m\n\u001b[1;32m    679\u001b[0m                     \u001b[0mwait_post_processing\u001b[0m\u001b[0;34m=\u001b[0m\u001b[0mwait_post_processing\u001b[0m\u001b[0;34m,\u001b[0m\u001b[0;34m\u001b[0m\u001b[0;34m\u001b[0m\u001b[0m\n\u001b[0;32m--> 680\u001b[0;31m                     raise_on_error=raise_on_error)\n\u001b[0m\u001b[1;32m    681\u001b[0m                 \u001b[0;32mreturn\u001b[0m \u001b[0mself\u001b[0m\u001b[0;34m.\u001b[0m\u001b[0mget_details\u001b[0m\u001b[0;34m(\u001b[0m\u001b[0;34m)\u001b[0m\u001b[0;34m\u001b[0m\u001b[0;34m\u001b[0m\u001b[0m\n\u001b[1;32m    682\u001b[0m             \u001b[0;32mexcept\u001b[0m \u001b[0mKeyboardInterrupt\u001b[0m\u001b[0;34m:\u001b[0m\u001b[0;34m\u001b[0m\u001b[0;34m\u001b[0m\u001b[0m\n",
      "\u001b[0;32m/usr/local/lib/python3.7/site-packages/azureml/core/run.py\u001b[0m in \u001b[0;36m_stream_run_output\u001b[0;34m(self, file_handle, wait_post_processing, raise_on_error)\u001b[0m\n\u001b[1;32m    919\u001b[0m                 \u001b[0mfile_handle\u001b[0m\u001b[0;34m.\u001b[0m\u001b[0mwrite\u001b[0m\u001b[0;34m(\u001b[0m\u001b[0;34m\"\\n\"\u001b[0m\u001b[0;34m)\u001b[0m\u001b[0;34m\u001b[0m\u001b[0;34m\u001b[0m\u001b[0m\n\u001b[1;32m    920\u001b[0m             \u001b[0;32melse\u001b[0m\u001b[0;34m:\u001b[0m\u001b[0;34m\u001b[0m\u001b[0;34m\u001b[0m\u001b[0m\n\u001b[0;32m--> 921\u001b[0;31m                 \u001b[0;32mraise\u001b[0m \u001b[0mActivityFailedException\u001b[0m\u001b[0;34m(\u001b[0m\u001b[0merror_details\u001b[0m\u001b[0;34m=\u001b[0m\u001b[0mjson\u001b[0m\u001b[0;34m.\u001b[0m\u001b[0mdumps\u001b[0m\u001b[0;34m(\u001b[0m\u001b[0merror\u001b[0m\u001b[0;34m,\u001b[0m \u001b[0mindent\u001b[0m\u001b[0;34m=\u001b[0m\u001b[0;36m4\u001b[0m\u001b[0;34m)\u001b[0m\u001b[0;34m)\u001b[0m\u001b[0;34m\u001b[0m\u001b[0;34m\u001b[0m\u001b[0m\n\u001b[0m\u001b[1;32m    922\u001b[0m \u001b[0;34m\u001b[0m\u001b[0m\n\u001b[1;32m    923\u001b[0m         \u001b[0mfile_handle\u001b[0m\u001b[0;34m.\u001b[0m\u001b[0mwrite\u001b[0m\u001b[0;34m(\u001b[0m\u001b[0;34m\"\\n\"\u001b[0m\u001b[0;34m)\u001b[0m\u001b[0;34m\u001b[0m\u001b[0;34m\u001b[0m\u001b[0m\n",
      "\u001b[0;31mActivityFailedException\u001b[0m: ActivityFailedException:\n\tMessage: Activity Failed:\n{\n    \"error\": {\n        \"code\": \"ServiceError\",\n        \"message\": \"Failed to run ['python', 'azureml-setup/run_script.py', 'python', 'azureml-setup/context_manager_injector.py', '-i', 'ProjectPythonPath:context_managers.ProjectPythonPath', '-i', 'RunHistory:context_managers.RunHistory', '-i', 'TrackUserError:context_managers.TrackUserError', 'script_file.py'] \\n Exit code 1 \\nDetails can be found in azureml-logs/60_control_log.txt log file.\",\n        \"details\": [],\n        \"messageParameters\": {}\n    },\n    \"time\": \"0001-01-01T00:00:00.000Z\"\n}\n\tInnerException None\n\tErrorResponse \n{\n    \"error\": {\n        \"message\": \"Activity Failed:\\n{\\n    \\\"error\\\": {\\n        \\\"code\\\": \\\"ServiceError\\\",\\n        \\\"message\\\": \\\"Failed to run ['python', 'azureml-setup/run_script.py', 'python', 'azureml-setup/context_manager_injector.py', '-i', 'ProjectPythonPath:context_managers.ProjectPythonPath', '-i', 'RunHistory:context_managers.RunHistory', '-i', 'TrackUserError:context_managers.TrackUserError', 'script_file.py'] \\\\n Exit code 1 \\\\nDetails can be found in azureml-logs/60_control_log.txt log file.\\\",\\n        \\\"details\\\": [],\\n        \\\"messageParameters\\\": {}\\n    },\\n    \\\"time\\\": \\\"0001-01-01T00:00:00.000Z\\\"\\n}\"\n    }\n}"
     ]
    }
   ],
   "source": [
    "# run a trial from the train.py code in your current directory\n",
    "config = ScriptRunConfig(source_directory='.', script=script_file_name, run_config = run_local)\n",
    "script_run = exp.submit(config)\n",
    "script_run.wait_for_completion(show_output=True)"
   ]
  },
  {
   "cell_type": "code",
   "execution_count": null,
   "metadata": {},
   "outputs": [],
   "source": []
  }
 ],
 "metadata": {
  "kernelspec": {
   "display_name": "Python 3",
   "language": "python",
   "name": "python3"
  },
  "language_info": {
   "codemirror_mode": {
    "name": "ipython",
    "version": 3
   },
   "file_extension": ".py",
   "mimetype": "text/x-python",
   "name": "python",
   "nbconvert_exporter": "python",
   "pygments_lexer": "ipython3",
   "version": "3.7.5"
  },
  "toc": {
   "base_numbering": 1,
   "nav_menu": {},
   "number_sections": true,
   "sideBar": true,
   "skip_h1_title": false,
   "title_cell": "Table of Contents",
   "title_sidebar": "Contents",
   "toc_cell": false,
   "toc_position": {},
   "toc_section_display": true,
   "toc_window_display": false
  }
 },
 "nbformat": 4,
 "nbformat_minor": 2
}
