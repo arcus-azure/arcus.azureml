{
 "cells": [
  {
   "cell_type": "code",
   "execution_count": 1,
   "metadata": {
    "ExecuteTime": {
     "end_time": "2020-05-13T14:08:07.840320Z",
     "start_time": "2020-05-13T14:08:07.837280Z"
    }
   },
   "outputs": [],
   "source": [
    "# This section enables to use the module code referenced in the repo\n",
    "import os\n",
    "import sys\n",
    "module_path = os.path.abspath(os.path.join('..'))\n",
    "if module_path not in sys.path:\n",
    "    sys.path.append(module_path)"
   ]
  },
  {
   "cell_type": "code",
   "execution_count": 2,
   "metadata": {
    "ExecuteTime": {
     "end_time": "2020-05-13T14:08:35.466065Z",
     "start_time": "2020-05-13T14:08:35.207530Z"
    }
   },
   "outputs": [
    {
     "output_type": "stream",
     "name": "stderr",
     "text": "Failure while loading azureml_run_type_providers. Failed to load entrypoint hyperdrive = azureml.train.hyperdrive:HyperDriveRun._from_run_dto with exception (azureml-core 1.5.0.post3 (/usr/local/lib/python3.7/site-packages), Requirement.parse('azureml-core~=1.4.0'), {'azureml-telemetry'}).\nFailure while loading azureml_run_type_providers. Failed to load entrypoint automl = azureml.train.automl.run:AutoMLRun._from_run_dto with exception (azureml-core 1.5.0.post3 (/usr/local/lib/python3.7/site-packages), Requirement.parse('azureml-core~=1.4.0'), {'azureml-telemetry'}).\nFailure while loading azureml_run_type_providers. Failed to load entrypoint azureml.PipelineRun = azureml.pipeline.core.run:PipelineRun._from_dto with exception (azureml-core 1.5.0.post3 (/usr/local/lib/python3.7/site-packages), Requirement.parse('azureml-core~=1.4.0')).\nFailure while loading azureml_run_type_providers. Failed to load entrypoint azureml.ReusedStepRun = azureml.pipeline.core.run:StepRun._from_reused_dto with exception (azureml-core 1.5.0.post3 (/usr/local/lib/python3.7/site-packages), Requirement.parse('azureml-core~=1.4.0')).\nFailure while loading azureml_run_type_providers. Failed to load entrypoint azureml.StepRun = azureml.pipeline.core.run:StepRun._from_dto with exception (azureml-core 1.5.0.post3 (/usr/local/lib/python3.7/site-packages), Requirement.parse('azureml-core~=1.4.0')).\n"
    }
   ],
   "source": [
    "# Imports for the excercise\n",
    "import pandas as pd \n",
    "import logging\n",
    "import numpy as np\n",
    "from arcus.azureml.environment.environment_factory import WorkEnvironmentFactory as fac\n"
   ]
  },
  {
   "cell_type": "markdown",
   "metadata": {},
   "source": [
    "## Connecting to a local work environment"
   ]
  },
  {
   "cell_type": "code",
   "execution_count": 3,
   "metadata": {
    "ExecuteTime": {
     "end_time": "2020-05-13T14:08:47.326645Z",
     "start_time": "2020-05-13T14:08:47.324143Z"
    }
   },
   "outputs": [
    {
     "output_type": "stream",
     "name": "stdout",
     "text": "Connected to AzureML workspace\n>> Name: codit-ai-incubators-ml\n>> Subscription: c1537527-c126-428d-8f72-1ac9f2c63c1f\n>> Resource group: codit-ai-incubators\n"
    }
   ],
   "source": [
    "work_env = fac.Create(connected = False, datastore_path='../tests/resources/datastore')\n",
    "aml_env = fac.Create(connected = True, config_file='../.azureml/config.json')\n"
   ]
  },
  {
   "cell_type": "code",
   "execution_count": 4,
   "metadata": {},
   "outputs": [
    {
     "output_type": "execute_result",
     "data": {
      "text/plain": "arcus.azureml.environment.local_environment.LocalEnvironment"
     },
     "metadata": {},
     "execution_count": 4
    }
   ],
   "source": [
    "type(work_env)"
   ]
  },
  {
   "cell_type": "markdown",
   "metadata": {},
   "source": [
    "## Loading partitioned dataframes"
   ]
  },
  {
   "cell_type": "code",
   "execution_count": 5,
   "metadata": {
    "ExecuteTime": {
     "end_time": "2020-05-13T14:08:55.301695Z",
     "start_time": "2020-05-13T14:08:55.273112Z"
    }
   },
   "outputs": [],
   "source": [
    "partition_df = work_env.load_tabular_partition('stock_AT*', columns=['Close', 'High', 'Isin', 'ItemDate', 'Low', 'Market', 'Open', 'Ticker', 'Volume'])"
   ]
  },
  {
   "cell_type": "code",
   "execution_count": 6,
   "metadata": {
    "ExecuteTime": {
     "end_time": "2020-05-13T14:08:55.899025Z",
     "start_time": "2020-05-13T14:08:55.880281Z"
    }
   },
   "outputs": [
    {
     "output_type": "execute_result",
     "data": {
      "text/plain": "   Close   High          Isin                            ItemDate    Low  \\\n0   18.0  18.06  ATFREQUENT09  2019-05-23 17:35:40.0000000 +00:00  17.80   \n1   18.0  18.08  ATFREQUENT09  2019-05-24 17:35:53.0000000 +00:00  17.92   \n2   18.0  18.18  ATFREQUENT09  2019-05-27 17:35:45.0000000 +00:00  17.90   \n3   18.0  18.20  ATFREQUENT09  2019-05-28 16:45:12.0000000 +00:00  17.90   \n\n  Market   Open Ticker  Volume  \n0   XETR  18.00    FQT    3950  \n1   XETR  18.00    FQT    3350  \n2   XETR  18.02    FQT    4112  \n3   XETR  17.98    FQT    3982  ",
      "text/html": "<div>\n<style scoped>\n    .dataframe tbody tr th:only-of-type {\n        vertical-align: middle;\n    }\n\n    .dataframe tbody tr th {\n        vertical-align: top;\n    }\n\n    .dataframe thead th {\n        text-align: right;\n    }\n</style>\n<table border=\"1\" class=\"dataframe\">\n  <thead>\n    <tr style=\"text-align: right;\">\n      <th></th>\n      <th>Close</th>\n      <th>High</th>\n      <th>Isin</th>\n      <th>ItemDate</th>\n      <th>Low</th>\n      <th>Market</th>\n      <th>Open</th>\n      <th>Ticker</th>\n      <th>Volume</th>\n    </tr>\n  </thead>\n  <tbody>\n    <tr>\n      <th>0</th>\n      <td>18.0</td>\n      <td>18.06</td>\n      <td>ATFREQUENT09</td>\n      <td>2019-05-23 17:35:40.0000000 +00:00</td>\n      <td>17.80</td>\n      <td>XETR</td>\n      <td>18.00</td>\n      <td>FQT</td>\n      <td>3950</td>\n    </tr>\n    <tr>\n      <th>1</th>\n      <td>18.0</td>\n      <td>18.08</td>\n      <td>ATFREQUENT09</td>\n      <td>2019-05-24 17:35:53.0000000 +00:00</td>\n      <td>17.92</td>\n      <td>XETR</td>\n      <td>18.00</td>\n      <td>FQT</td>\n      <td>3350</td>\n    </tr>\n    <tr>\n      <th>2</th>\n      <td>18.0</td>\n      <td>18.18</td>\n      <td>ATFREQUENT09</td>\n      <td>2019-05-27 17:35:45.0000000 +00:00</td>\n      <td>17.90</td>\n      <td>XETR</td>\n      <td>18.02</td>\n      <td>FQT</td>\n      <td>4112</td>\n    </tr>\n    <tr>\n      <th>3</th>\n      <td>18.0</td>\n      <td>18.20</td>\n      <td>ATFREQUENT09</td>\n      <td>2019-05-28 16:45:12.0000000 +00:00</td>\n      <td>17.90</td>\n      <td>XETR</td>\n      <td>17.98</td>\n      <td>FQT</td>\n      <td>3982</td>\n    </tr>\n  </tbody>\n</table>\n</div>"
     },
     "metadata": {},
     "execution_count": 6
    }
   ],
   "source": [
    "partition_df.head(4)"
   ]
  },
  {
   "cell_type": "code",
   "execution_count": null,
   "metadata": {},
   "outputs": [],
   "source": []
  }
 ],
 "metadata": {
  "kernelspec": {
   "display_name": "'Python Interactive'",
   "language": "python",
   "name": "f3f1c6d5-6ceb-4fbe-a290-0df896ef3f8e"
  },
  "language_info": {
   "codemirror_mode": {
    "name": "ipython",
    "version": 3
   },
   "file_extension": ".py",
   "mimetype": "text/x-python",
   "name": "python",
   "nbconvert_exporter": "python",
   "pygments_lexer": "ipython3",
   "version": "3.7.5-final"
  },
  "toc": {
   "base_numbering": 1,
   "nav_menu": {},
   "number_sections": true,
   "sideBar": true,
   "skip_h1_title": false,
   "title_cell": "Table of Contents",
   "title_sidebar": "Contents",
   "toc_cell": false,
   "toc_position": {},
   "toc_section_display": true,
   "toc_window_display": false
  }
 },
 "nbformat": 4,
 "nbformat_minor": 2
}