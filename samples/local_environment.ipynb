{
 "cells": [
  {
   "cell_type": "code",
   "execution_count": 1,
   "metadata": {},
   "outputs": [],
   "source": [
    "# This section enables to use the module code referenced in the repo\n",
    "import os\n",
    "import sys\n",
    "module_path = os.path.abspath(os.path.join('..'))\n",
    "if module_path not in sys.path:\n",
    "    sys.path.append(module_path)"
   ]
  },
  {
   "cell_type": "code",
   "execution_count": 2,
   "metadata": {},
   "outputs": [],
   "source": [
    "# Imports for the excercise\n",
    "import pandas as pd \n",
    "import logging\n",
    "import numpy as np\n",
    "from arcus.azureml.workenvironment import WorkEnvironment\n"
   ]
  },
  {
   "cell_type": "markdown",
   "metadata": {},
   "source": [
    "## Connecting to a local work environment"
   ]
  },
  {
   "cell_type": "code",
   "execution_count": 3,
   "metadata": {},
   "outputs": [],
   "source": [
    "work_env = WorkEnvironment(connected = False, datastore_path='../tests/resources/datastore')"
   ]
  },
  {
   "cell_type": "markdown",
   "metadata": {},
   "source": [
    "## Loading partitioned dataframes"
   ]
  },
  {
   "cell_type": "code",
   "execution_count": 4,
   "metadata": {},
   "outputs": [],
   "source": [
    "partition_df = work_env.load_tabular_partition('stock_AT', columns=['Close', 'High', 'Isin', 'ItemDate', 'Low', 'Market', 'Open', 'Ticker', 'Volume'])"
   ]
  },
  {
   "cell_type": "code",
   "execution_count": 5,
   "metadata": {},
   "outputs": [
    {
     "output_type": "display_data",
     "data": {
      "text/plain": "    Close    High          Isin                            ItemDate     Low  \\\n0  18.000  18.060  ATFREQUENT09  2019-05-23 17:35:40.0000000 +00:00  17.800   \n1  18.000  18.080  ATFREQUENT09  2019-05-24 17:35:53.0000000 +00:00  17.920   \n2  18.000  18.180  ATFREQUENT09  2019-05-27 17:35:45.0000000 +00:00  17.900   \n3  18.000  18.200  ATFREQUENT09  2019-05-28 16:45:12.0000000 +00:00  17.900   \n4  17.960  18.000  ATFREQUENT09  2019-05-29 14:52:51.0000000 +00:00  17.860   \n5  17.960  17.960  ATFREQUENT09  2019-05-30 14:44:26.0000000 +00:00  17.800   \n6  18.060  18.060  ATFREQUENT09  2019-05-31 17:35:37.0000000 +00:00  17.800   \n7  17.940  18.160  ATFREQUENT09  2019-06-03 17:35:45.0000000 +00:00  17.800   \n8  17.900  17.900  ATFREQUENT09  2019-06-04 15:24:47.0000000 +00:00  17.720   \n9  17.960  18.000  ATFREQUENT09  2019-06-05 12:48:15.0000000 +00:00  17.800   \n0  19.878  19.878  AT000AGRANA3  2012-03-27 17:34:19.0000000 +00:00  19.654   \n1  19.866  20.048  AT000AGRANA3  2012-03-28 17:34:11.0000000 +00:00  19.654   \n2  19.999  20.063  AT000AGRANA3  2012-03-29 16:52:24.0000000 +00:00  19.706   \n3  20.198  20.198  AT000AGRANA3  2012-03-30 15:54:35.0000000 +00:00  20.073   \n4  20.198  20.198  AT000AGRANA3  2012-04-02 12:40:18.0000000 +00:00  20.198   \n5  20.302  20.302  AT000AGRANA3  2012-04-03 12:21:33.0000000 +00:00  20.196   \n6  19.868  20.322  AT000AGRANA3  2012-04-04 10:43:16.0000000 +00:00  19.868   \n7  19.952  20.322  AT000AGRANA3  2012-04-05 17:34:27.0000000 +00:00  19.708   \n8  19.841  20.317  AT000AGRANA3  2012-04-10 10:34:46.0000000 +00:00  19.841   \n9  19.903  20.290  AT000AGRANA3  2012-04-11 17:34:27.0000000 +00:00  19.903   \n0  24.810  25.400  AT000KAPSCH9  2010-03-08 17:34:24.0000000 +00:00  24.400   \n1  26.200  26.200  AT000KAPSCH9  2010-03-09 17:34:29.0000000 +00:00  25.400   \n2  26.550  26.580  AT000KAPSCH9  2010-03-10 17:34:11.0000000 +00:00  25.900   \n3  26.550  26.630  AT000KAPSCH9  2010-03-11 17:27:10.0000000 +00:00  26.010   \n4  27.100  27.130  AT000KAPSCH9  2010-03-12 17:34:11.0000000 +00:00  26.550   \n5  27.170  27.230  AT000KAPSCH9  2010-03-15 17:34:13.0000000 +00:00  26.550   \n6  27.500  27.640  AT000KAPSCH9  2010-03-16 17:26:13.0000000 +00:00  27.200   \n7  26.830  27.640  AT000KAPSCH9  2010-03-17 17:34:28.0000000 +00:00  26.800   \n8  26.750  27.230  AT000KAPSCH9  2010-03-18 17:34:02.0000000 +00:00  26.750   \n9  27.000  27.150  AT000KAPSCH9  2010-03-19 17:34:30.0000000 +00:00  26.400   \n\n  Market    Open    Ticker  Volume  \n0   XETR  18.000       FQT    3950  \n1   XETR  18.000       FQT    3350  \n2   XETR  18.020       FQT    4112  \n3   XETR  17.980       FQT    3982  \n4   XETR  18.000       FQT    2303  \n5   XETR  17.900       FQT    5844  \n6   XETR  17.900       FQT   13868  \n7   XETR  18.000       FQT    9125  \n8   XETR  17.800       FQT    5256  \n9   XETR  17.800       FQT    2069  \n0   XWBO  19.661       AGR     760  \n1   XWBO  19.706       AGR    1048  \n2   XWBO  20.051       AGR     960  \n3   XWBO  20.075       AGR    2328  \n4   XWBO  20.198       AGR    1000  \n5   XWBO  20.196       AGR    1600  \n6   XWBO  20.297       AGR    1416  \n7   XWBO  20.322       AGR    3892  \n8   XWBO  20.317       AGR     608  \n9   XWBO  20.290       AGR     432  \n0   XWBO  24.490  AT360080   56456  \n1   XWBO  25.420  AT360080    5411  \n2   XWBO  25.900  AT360080   30389  \n3   XWBO  26.010  AT360080    7482  \n4   XWBO  26.640  AT360080   13941  \n5   XWBO  26.580  AT360080    3557  \n6   XWBO  27.200  AT360080    4945  \n7   XWBO  27.640  AT360080    1585  \n8   XWBO  27.230  AT360080    1263  \n9   XWBO  26.990  AT360080    2650  ",
      "text/html": "<div>\n<style scoped>\n    .dataframe tbody tr th:only-of-type {\n        vertical-align: middle;\n    }\n\n    .dataframe tbody tr th {\n        vertical-align: top;\n    }\n\n    .dataframe thead th {\n        text-align: right;\n    }\n</style>\n<table border=\"1\" class=\"dataframe\">\n  <thead>\n    <tr style=\"text-align: right;\">\n      <th></th>\n      <th>Close</th>\n      <th>High</th>\n      <th>Isin</th>\n      <th>ItemDate</th>\n      <th>Low</th>\n      <th>Market</th>\n      <th>Open</th>\n      <th>Ticker</th>\n      <th>Volume</th>\n    </tr>\n  </thead>\n  <tbody>\n    <tr>\n      <th>0</th>\n      <td>18.000</td>\n      <td>18.060</td>\n      <td>ATFREQUENT09</td>\n      <td>2019-05-23 17:35:40.0000000 +00:00</td>\n      <td>17.800</td>\n      <td>XETR</td>\n      <td>18.000</td>\n      <td>FQT</td>\n      <td>3950</td>\n    </tr>\n    <tr>\n      <th>1</th>\n      <td>18.000</td>\n      <td>18.080</td>\n      <td>ATFREQUENT09</td>\n      <td>2019-05-24 17:35:53.0000000 +00:00</td>\n      <td>17.920</td>\n      <td>XETR</td>\n      <td>18.000</td>\n      <td>FQT</td>\n      <td>3350</td>\n    </tr>\n    <tr>\n      <th>2</th>\n      <td>18.000</td>\n      <td>18.180</td>\n      <td>ATFREQUENT09</td>\n      <td>2019-05-27 17:35:45.0000000 +00:00</td>\n      <td>17.900</td>\n      <td>XETR</td>\n      <td>18.020</td>\n      <td>FQT</td>\n      <td>4112</td>\n    </tr>\n    <tr>\n      <th>3</th>\n      <td>18.000</td>\n      <td>18.200</td>\n      <td>ATFREQUENT09</td>\n      <td>2019-05-28 16:45:12.0000000 +00:00</td>\n      <td>17.900</td>\n      <td>XETR</td>\n      <td>17.980</td>\n      <td>FQT</td>\n      <td>3982</td>\n    </tr>\n    <tr>\n      <th>4</th>\n      <td>17.960</td>\n      <td>18.000</td>\n      <td>ATFREQUENT09</td>\n      <td>2019-05-29 14:52:51.0000000 +00:00</td>\n      <td>17.860</td>\n      <td>XETR</td>\n      <td>18.000</td>\n      <td>FQT</td>\n      <td>2303</td>\n    </tr>\n    <tr>\n      <th>5</th>\n      <td>17.960</td>\n      <td>17.960</td>\n      <td>ATFREQUENT09</td>\n      <td>2019-05-30 14:44:26.0000000 +00:00</td>\n      <td>17.800</td>\n      <td>XETR</td>\n      <td>17.900</td>\n      <td>FQT</td>\n      <td>5844</td>\n    </tr>\n    <tr>\n      <th>6</th>\n      <td>18.060</td>\n      <td>18.060</td>\n      <td>ATFREQUENT09</td>\n      <td>2019-05-31 17:35:37.0000000 +00:00</td>\n      <td>17.800</td>\n      <td>XETR</td>\n      <td>17.900</td>\n      <td>FQT</td>\n      <td>13868</td>\n    </tr>\n    <tr>\n      <th>7</th>\n      <td>17.940</td>\n      <td>18.160</td>\n      <td>ATFREQUENT09</td>\n      <td>2019-06-03 17:35:45.0000000 +00:00</td>\n      <td>17.800</td>\n      <td>XETR</td>\n      <td>18.000</td>\n      <td>FQT</td>\n      <td>9125</td>\n    </tr>\n    <tr>\n      <th>8</th>\n      <td>17.900</td>\n      <td>17.900</td>\n      <td>ATFREQUENT09</td>\n      <td>2019-06-04 15:24:47.0000000 +00:00</td>\n      <td>17.720</td>\n      <td>XETR</td>\n      <td>17.800</td>\n      <td>FQT</td>\n      <td>5256</td>\n    </tr>\n    <tr>\n      <th>9</th>\n      <td>17.960</td>\n      <td>18.000</td>\n      <td>ATFREQUENT09</td>\n      <td>2019-06-05 12:48:15.0000000 +00:00</td>\n      <td>17.800</td>\n      <td>XETR</td>\n      <td>17.800</td>\n      <td>FQT</td>\n      <td>2069</td>\n    </tr>\n    <tr>\n      <th>0</th>\n      <td>19.878</td>\n      <td>19.878</td>\n      <td>AT000AGRANA3</td>\n      <td>2012-03-27 17:34:19.0000000 +00:00</td>\n      <td>19.654</td>\n      <td>XWBO</td>\n      <td>19.661</td>\n      <td>AGR</td>\n      <td>760</td>\n    </tr>\n    <tr>\n      <th>1</th>\n      <td>19.866</td>\n      <td>20.048</td>\n      <td>AT000AGRANA3</td>\n      <td>2012-03-28 17:34:11.0000000 +00:00</td>\n      <td>19.654</td>\n      <td>XWBO</td>\n      <td>19.706</td>\n      <td>AGR</td>\n      <td>1048</td>\n    </tr>\n    <tr>\n      <th>2</th>\n      <td>19.999</td>\n      <td>20.063</td>\n      <td>AT000AGRANA3</td>\n      <td>2012-03-29 16:52:24.0000000 +00:00</td>\n      <td>19.706</td>\n      <td>XWBO</td>\n      <td>20.051</td>\n      <td>AGR</td>\n      <td>960</td>\n    </tr>\n    <tr>\n      <th>3</th>\n      <td>20.198</td>\n      <td>20.198</td>\n      <td>AT000AGRANA3</td>\n      <td>2012-03-30 15:54:35.0000000 +00:00</td>\n      <td>20.073</td>\n      <td>XWBO</td>\n      <td>20.075</td>\n      <td>AGR</td>\n      <td>2328</td>\n    </tr>\n    <tr>\n      <th>4</th>\n      <td>20.198</td>\n      <td>20.198</td>\n      <td>AT000AGRANA3</td>\n      <td>2012-04-02 12:40:18.0000000 +00:00</td>\n      <td>20.198</td>\n      <td>XWBO</td>\n      <td>20.198</td>\n      <td>AGR</td>\n      <td>1000</td>\n    </tr>\n    <tr>\n      <th>5</th>\n      <td>20.302</td>\n      <td>20.302</td>\n      <td>AT000AGRANA3</td>\n      <td>2012-04-03 12:21:33.0000000 +00:00</td>\n      <td>20.196</td>\n      <td>XWBO</td>\n      <td>20.196</td>\n      <td>AGR</td>\n      <td>1600</td>\n    </tr>\n    <tr>\n      <th>6</th>\n      <td>19.868</td>\n      <td>20.322</td>\n      <td>AT000AGRANA3</td>\n      <td>2012-04-04 10:43:16.0000000 +00:00</td>\n      <td>19.868</td>\n      <td>XWBO</td>\n      <td>20.297</td>\n      <td>AGR</td>\n      <td>1416</td>\n    </tr>\n    <tr>\n      <th>7</th>\n      <td>19.952</td>\n      <td>20.322</td>\n      <td>AT000AGRANA3</td>\n      <td>2012-04-05 17:34:27.0000000 +00:00</td>\n      <td>19.708</td>\n      <td>XWBO</td>\n      <td>20.322</td>\n      <td>AGR</td>\n      <td>3892</td>\n    </tr>\n    <tr>\n      <th>8</th>\n      <td>19.841</td>\n      <td>20.317</td>\n      <td>AT000AGRANA3</td>\n      <td>2012-04-10 10:34:46.0000000 +00:00</td>\n      <td>19.841</td>\n      <td>XWBO</td>\n      <td>20.317</td>\n      <td>AGR</td>\n      <td>608</td>\n    </tr>\n    <tr>\n      <th>9</th>\n      <td>19.903</td>\n      <td>20.290</td>\n      <td>AT000AGRANA3</td>\n      <td>2012-04-11 17:34:27.0000000 +00:00</td>\n      <td>19.903</td>\n      <td>XWBO</td>\n      <td>20.290</td>\n      <td>AGR</td>\n      <td>432</td>\n    </tr>\n    <tr>\n      <th>0</th>\n      <td>24.810</td>\n      <td>25.400</td>\n      <td>AT000KAPSCH9</td>\n      <td>2010-03-08 17:34:24.0000000 +00:00</td>\n      <td>24.400</td>\n      <td>XWBO</td>\n      <td>24.490</td>\n      <td>AT360080</td>\n      <td>56456</td>\n    </tr>\n    <tr>\n      <th>1</th>\n      <td>26.200</td>\n      <td>26.200</td>\n      <td>AT000KAPSCH9</td>\n      <td>2010-03-09 17:34:29.0000000 +00:00</td>\n      <td>25.400</td>\n      <td>XWBO</td>\n      <td>25.420</td>\n      <td>AT360080</td>\n      <td>5411</td>\n    </tr>\n    <tr>\n      <th>2</th>\n      <td>26.550</td>\n      <td>26.580</td>\n      <td>AT000KAPSCH9</td>\n      <td>2010-03-10 17:34:11.0000000 +00:00</td>\n      <td>25.900</td>\n      <td>XWBO</td>\n      <td>25.900</td>\n      <td>AT360080</td>\n      <td>30389</td>\n    </tr>\n    <tr>\n      <th>3</th>\n      <td>26.550</td>\n      <td>26.630</td>\n      <td>AT000KAPSCH9</td>\n      <td>2010-03-11 17:27:10.0000000 +00:00</td>\n      <td>26.010</td>\n      <td>XWBO</td>\n      <td>26.010</td>\n      <td>AT360080</td>\n      <td>7482</td>\n    </tr>\n    <tr>\n      <th>4</th>\n      <td>27.100</td>\n      <td>27.130</td>\n      <td>AT000KAPSCH9</td>\n      <td>2010-03-12 17:34:11.0000000 +00:00</td>\n      <td>26.550</td>\n      <td>XWBO</td>\n      <td>26.640</td>\n      <td>AT360080</td>\n      <td>13941</td>\n    </tr>\n    <tr>\n      <th>5</th>\n      <td>27.170</td>\n      <td>27.230</td>\n      <td>AT000KAPSCH9</td>\n      <td>2010-03-15 17:34:13.0000000 +00:00</td>\n      <td>26.550</td>\n      <td>XWBO</td>\n      <td>26.580</td>\n      <td>AT360080</td>\n      <td>3557</td>\n    </tr>\n    <tr>\n      <th>6</th>\n      <td>27.500</td>\n      <td>27.640</td>\n      <td>AT000KAPSCH9</td>\n      <td>2010-03-16 17:26:13.0000000 +00:00</td>\n      <td>27.200</td>\n      <td>XWBO</td>\n      <td>27.200</td>\n      <td>AT360080</td>\n      <td>4945</td>\n    </tr>\n    <tr>\n      <th>7</th>\n      <td>26.830</td>\n      <td>27.640</td>\n      <td>AT000KAPSCH9</td>\n      <td>2010-03-17 17:34:28.0000000 +00:00</td>\n      <td>26.800</td>\n      <td>XWBO</td>\n      <td>27.640</td>\n      <td>AT360080</td>\n      <td>1585</td>\n    </tr>\n    <tr>\n      <th>8</th>\n      <td>26.750</td>\n      <td>27.230</td>\n      <td>AT000KAPSCH9</td>\n      <td>2010-03-18 17:34:02.0000000 +00:00</td>\n      <td>26.750</td>\n      <td>XWBO</td>\n      <td>27.230</td>\n      <td>AT360080</td>\n      <td>1263</td>\n    </tr>\n    <tr>\n      <th>9</th>\n      <td>27.000</td>\n      <td>27.150</td>\n      <td>AT000KAPSCH9</td>\n      <td>2010-03-19 17:34:30.0000000 +00:00</td>\n      <td>26.400</td>\n      <td>XWBO</td>\n      <td>26.990</td>\n      <td>AT360080</td>\n      <td>2650</td>\n    </tr>\n  </tbody>\n</table>\n</div>"
     },
     "metadata": {}
    }
   ],
   "source": [
    "display(partition_df)"
   ]
  },
  {
   "cell_type": "code",
   "execution_count": null,
   "metadata": {},
   "outputs": [],
   "source": []
  }
 ],
 "metadata": {
  "language_info": {
   "codemirror_mode": {
    "name": "ipython",
    "version": 3
   },
   "file_extension": ".py",
   "mimetype": "text/x-python",
   "name": "python",
   "nbconvert_exporter": "python",
   "pygments_lexer": "ipython3",
   "version": "3.7.5-final"
  },
  "orig_nbformat": 2,
  "kernelspec": {
   "name": "f3f1c6d5-6ceb-4fbe-a290-0df896ef3f8e",
   "display_name": "'Python Interactive'"
  }
 },
 "nbformat": 4,
 "nbformat_minor": 2
}