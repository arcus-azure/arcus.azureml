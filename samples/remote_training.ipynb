{
 "cells": [
  {
   "cell_type": "code",
   "execution_count": 3,
   "metadata": {},
   "outputs": [],
   "source": [
    "# This section enables to use the module code referenced *in the repo\n",
    "import os\n",
    "import os.path\n",
    "import sys\n",
    "from datetime import date\n",
    "\n",
    "from azureml.data.dataset_error_handling import DatasetValidationError\n",
    "from azureml.widgets import RunDetails\n",
    "from azureml.core.compute import ComputeTarget, AmlCompute\n",
    "from azureml.core.compute_target import ComputeTargetException"
   ]
  },
  {
   "cell_type": "code",
   "execution_count": 5,
   "metadata": {},
   "outputs": [
    {
     "output_type": "stream",
     "name": "stdout",
     "text": "Connected to AzureML workspace\n>> Name: codit-ai-incubators-ml\n>> Subscription: c1537527-c126-428d-8f72-1ac9f2c63c1f\n>> Resource group: codit-ai-incubators\n"
    }
   ],
   "source": [
    "from arcus.azureml.environment.aml_environment import AzureMLEnvironment\n",
    "azure_config_file = '../.azureml/config.json'\n",
    "aml = AzureMLEnvironment.Create(config_file=azure_config_file)"
   ]
  },
  {
   "cell_type": "code",
   "execution_count": 6,
   "metadata": {},
   "outputs": [],
   "source": [
    "training_name = 'Arcus-Remote-Training'\n",
    "trainer = aml.start_experiment(training_name)\n",
    "trainer.setup_training(training_name)"
   ]
  },
  {
   "cell_type": "code",
   "execution_count": null,
   "metadata": {},
   "outputs": [],
   "source": []
  }
 ],
 "metadata": {
  "language_info": {
   "codemirror_mode": {
    "name": "ipython",
    "version": 3
   },
   "file_extension": ".py",
   "mimetype": "text/x-python",
   "name": "python",
   "nbconvert_exporter": "python",
   "pygments_lexer": "ipython3",
   "version": "3.7.5-final"
  },
  "orig_nbformat": 2,
  "kernelspec": {
   "name": "f3f1c6d5-6ceb-4fbe-a290-0df896ef3f8e",
   "display_name": "'Python Interactive'"
  }
 },
 "nbformat": 4,
 "nbformat_minor": 2
}